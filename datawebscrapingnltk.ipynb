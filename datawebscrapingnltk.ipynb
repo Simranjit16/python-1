{
  "nbformat": 4,
  "nbformat_minor": 0,
  "metadata": {
    "colab": {
      "name": "webscraping",
      "provenance": [],
      "authorship_tag": "ABX9TyNI/CSyX0pG0aYB6EDjML0u",
      "include_colab_link": true
    },
    "kernelspec": {
      "name": "python3",
      "display_name": "Python 3"
    }
  },
  "cells": [
    {
      "cell_type": "markdown",
      "metadata": {
        "id": "view-in-github",
        "colab_type": "text"
      },
      "source": [
        "<a href=\"https://colab.research.google.com/github/Simranjit16/python-1/blob/master/datawebscrapingnltk.ipynb\" target=\"_parent\"><img src=\"https://colab.research.google.com/assets/colab-badge.svg\" alt=\"Open In Colab\"/></a>"
      ]
    },
    {
      "cell_type": "code",
      "metadata": {
        "id": "-ZXQBI8sZdTO",
        "colab_type": "code",
        "colab": {}
      },
      "source": [
        "from urllib import request   # download data from url\n",
        "from bs4 import BeautifulSoup   #for souping\n",
        "import re\n"
      ],
      "execution_count": 0,
      "outputs": []
    },
    {
      "cell_type": "code",
      "metadata": {
        "id": "HcDwnouzpUfw",
        "colab_type": "code",
        "colab": {}
      },
      "source": [
        "url=\"https://ourworldindata.org/coronavirus-data\"\n",
        "#url=\"https://en.wikipedia.org/wiki/Machine_learning\"  # pointing to url\n",
        "htmldata=request.urlopen(url)"
      ],
      "execution_count": 0,
      "outputs": []
    },
    {
      "cell_type": "code",
      "metadata": {
        "id": "PHwvGKLmbrCF",
        "colab_type": "code",
        "colab": {}
      },
      "source": [
        "#htmldata.read()  # it will download data in html format\n",
        "soupdata=BeautifulSoup(htmldata,'html5lib')\n",
        "#  html data, html parser\n",
        "# what is html parser ---- is a collection of html tags thaat can scrap data from particular tag like h1,html,a,p---\n"
      ],
      "execution_count": 0,
      "outputs": []
    },
    {
      "cell_type": "code",
      "metadata": {
        "id": "RNl8GEJQdu10",
        "colab_type": "code",
        "colab": {}
      },
      "source": [
        "# now selectin a particular tag data scrap\n",
        "atagdata=soupdata.findAll('p')\n",
        "\n",
        "#print(atagdata)"
      ],
      "execution_count": 0,
      "outputs": []
    },
    {
      "cell_type": "code",
      "metadata": {
        "id": "tXXd0hbgfy6x",
        "colab_type": "code",
        "outputId": "7114c927-2834-4484-c0f2-5184d8eeb46f",
        "colab": {
          "base_uri": "https://localhost:8080/",
          "height": 222
        }
      },
      "source": [
        "# now i converting a data into string format\n",
        "import time\n",
        "mydata=\"\"\n",
        "for i in atagdata:\n",
        " mydata += i.text\n",
        "\n",
        " print(mydata)\n",
        "  #print(i.text)\n",
        " # time.sleep(1)\n"
      ],
      "execution_count": 0,
      "outputs": [
        {
          "output_type": "stream",
          "text": [
            "This page only lists all our visualizations on the pandemic.\n",
            "This page only lists all our visualizations on the pandemic.Our main page on the Coronavirus pandemic is here.\n",
            "This page only lists all our visualizations on the pandemic.Our main page on the Coronavirus pandemic is here.Data sources: The data on confirmed cases and confirmed deaths shown in these visualizations is updated daily and is published by the European CDC, the best available global dataset on the pandemic. Our information on the ECDC data.\n",
            "This page only lists all our visualizations on the pandemic.Our main page on the Coronavirus pandemic is here.Data sources: The data on confirmed cases and confirmed deaths shown in these visualizations is updated daily and is published by the European CDC, the best available global dataset on the pandemic. Our information on the ECDC data.The data on testing was collected by us – more detail can be found here.\n",
            "This page only lists all our visualizations on the pandemic.Our main page on the Coronavirus pandemic is here.Data sources: The data on confirmed cases and confirmed deaths shown in these visualizations is updated daily and is published by the European CDC, the best available global dataset on the pandemic. Our information on the ECDC data.The data on testing was collected by us – more detail can be found here.How to use these charts:\n",
            "This page only lists all our visualizations on the pandemic.Our main page on the Coronavirus pandemic is here.Data sources: The data on confirmed cases and confirmed deaths shown in these visualizations is updated daily and is published by the European CDC, the best available global dataset on the pandemic. Our information on the ECDC data.The data on testing was collected by us – more detail can be found here.How to use these charts:We license all charts under Creative Commons BY (info here) and they can be embedded in any site. Here is how.\n",
            "This page only lists all our visualizations on the pandemic.Our main page on the Coronavirus pandemic is here.Data sources: The data on confirmed cases and confirmed deaths shown in these visualizations is updated daily and is published by the European CDC, the best available global dataset on the pandemic. Our information on the ECDC data.The data on testing was collected by us – more detail can be found here.How to use these charts:We license all charts under Creative Commons BY (info here) and they can be embedded in any site. Here is how.Our World in Data is free and accessible for everyone.\n",
            "This page only lists all our visualizations on the pandemic.Our main page on the Coronavirus pandemic is here.Data sources: The data on confirmed cases and confirmed deaths shown in these visualizations is updated daily and is published by the European CDC, the best available global dataset on the pandemic. Our information on the ECDC data.The data on testing was collected by us – more detail can be found here.How to use these charts:We license all charts under Creative Commons BY (info here) and they can be embedded in any site. Here is how.Our World in Data is free and accessible for everyone.Help us do this work by making a donation.\n",
            "This page only lists all our visualizations on the pandemic.Our main page on the Coronavirus pandemic is here.Data sources: The data on confirmed cases and confirmed deaths shown in these visualizations is updated daily and is published by the European CDC, the best available global dataset on the pandemic. Our information on the ECDC data.The data on testing was collected by us – more detail can be found here.How to use these charts:We license all charts under Creative Commons BY (info here) and they can be embedded in any site. Here is how.Our World in Data is free and accessible for everyone.Help us do this work by making a donation.License: All of Our World in Data is completely open access and all work is licensed under the Creative Commons BY license. You have the permission to use, distribute, and reproduce in any medium, provided the source and authors are credited.\n",
            "This page only lists all our visualizations on the pandemic.Our main page on the Coronavirus pandemic is here.Data sources: The data on confirmed cases and confirmed deaths shown in these visualizations is updated daily and is published by the European CDC, the best available global dataset on the pandemic. Our information on the ECDC data.The data on testing was collected by us – more detail can be found here.How to use these charts:We license all charts under Creative Commons BY (info here) and they can be embedded in any site. Here is how.Our World in Data is free and accessible for everyone.Help us do this work by making a donation.License: All of Our World in Data is completely open access and all work is licensed under the Creative Commons BY license. You have the permission to use, distribute, and reproduce in any medium, provided the source and authors are credited.Please consult our full legal disclaimer.\n",
            "This page only lists all our visualizations on the pandemic.Our main page on the Coronavirus pandemic is here.Data sources: The data on confirmed cases and confirmed deaths shown in these visualizations is updated daily and is published by the European CDC, the best available global dataset on the pandemic. Our information on the ECDC data.The data on testing was collected by us – more detail can be found here.How to use these charts:We license all charts under Creative Commons BY (info here) and they can be embedded in any site. Here is how.Our World in Data is free and accessible for everyone.Help us do this work by making a donation.License: All of Our World in Data is completely open access and all work is licensed under the Creative Commons BY license. You have the permission to use, distribute, and reproduce in any medium, provided the source and authors are credited.Please consult our full legal disclaimer.Our World In Data is a project of the Global Change Data Lab, a registered charity in England and Wales (Charity Number 1186433).\n"
          ],
          "name": "stdout"
        }
      ]
    },
    {
      "cell_type": "code",
      "metadata": {
        "id": "vYgqZRSkgSv0",
        "colab_type": "code",
        "outputId": "5ec1c9b1-11d7-4b34-a858-ee14bc3c9034",
        "colab": {
          "base_uri": "https://localhost:8080/",
          "height": 70
        }
      },
      "source": [
        "# data cleaning\n",
        "clean_data=re.sub(r'\\[[0-9]*\\']',' ',mydata)  # this will remove 0 or more time number appearing in my data\n",
        "clean_data=re.sub(r'\\s+',' ',clean_data)   # it will remove one or more than one white space\n",
        "clean_data=re.sub(r'[^a-zA-Z]',' ',clean_data)  # it will remove single char from starting of the line\n",
        "print(clean_data)\n",
        "print(type(clean_data))"
      ],
      "execution_count": 0,
      "outputs": [
        {
          "output_type": "stream",
          "text": [
            "This page only lists all our visualizations on the pandemic Our main page on the Coronavirus pandemic is here Data sources  The data on confirmed cases and confirmed deaths shown in these visualizations is updated daily and is published by the European CDC  the best available global dataset on the pandemic  Our information on the ECDC data The data on testing was collected by us   more detail can be found here How to use these charts We license all charts under Creative Commons BY  info here  and they can be embedded in any site  Here is how Our World in Data is free and accessible for everyone Help us do this work by making a donation License  All of Our World in Data is completely open access and all work is licensed under the Creative Commons BY license  You have the permission to use  distribute  and reproduce in any medium  provided the source and authors are credited Please consult our full legal disclaimer Our World In Data is a project of the Global Change Data Lab  a registered charity in England and Wales  Charity Number          \n",
            "<class 'str'>\n"
          ],
          "name": "stdout"
        }
      ]
    },
    {
      "cell_type": "code",
      "metadata": {
        "id": "-P_SePKdqVFa",
        "colab_type": "code",
        "colab": {}
      },
      "source": [
        "# now lets deal wih string\n",
        "newdata =clean_data.split()  # spliting means conversion of str into list\n",
        "#for words in newdata:\n",
        "#print(words)\n",
        "#time.sleep(1)\n",
        "#deal with data by using NLTK--natural language toolkit\n"
      ],
      "execution_count": 0,
      "outputs": []
    },
    {
      "cell_type": "code",
      "metadata": {
        "id": "I8EZsvByvcCp",
        "colab_type": "code",
        "outputId": "1b2709d3-875b-4161-ec3e-008194753a6c",
        "colab": {
          "base_uri": "https://localhost:8080/",
          "height": 50
        }
      },
      "source": [
        "!pip install nltk  # to install nltk"
      ],
      "execution_count": 0,
      "outputs": [
        {
          "output_type": "stream",
          "text": [
            "Requirement already satisfied: nltk in /usr/local/lib/python3.6/dist-packages (3.2.5)\n",
            "Requirement already satisfied: six in /usr/local/lib/python3.6/dist-packages (from nltk) (1.12.0)\n"
          ],
          "name": "stdout"
        }
      ]
    },
    {
      "cell_type": "code",
      "metadata": {
        "id": "Tw5r42vR2_xT",
        "colab_type": "code",
        "outputId": "3de8a806-890a-4993-dc58-b70489394a4d",
        "colab": {
          "base_uri": "https://localhost:8080/",
          "height": 374
        }
      },
      "source": [
        "import nltk\n",
        "#download all dictionary for computer\n",
        "#nltk.download('all')\n",
        "#remove the stop keywords\n",
        "mypuredata=[]\n",
        "from nltk.corpus import stopwords\n",
        "for i in newdata:\n",
        "  if i.lower() not in stopwords.words('english'):\n",
        "    mypuredata.append(i)\n",
        "\n",
        "print(mypuredata)\n",
        "freq_data=nltk.FreqDist(mypuredata)\n",
        "freq_data.plot(20)  # top 20 words having the most count"
      ],
      "execution_count": 0,
      "outputs": [
        {
          "output_type": "stream",
          "text": [
            "['page', 'lists', 'visualizations', 'pandemic', 'main', 'page', 'Coronavirus', 'pandemic', 'Data', 'sources', 'data', 'confirmed', 'cases', 'confirmed', 'deaths', 'shown', 'visualizations', 'updated', 'daily', 'published', 'European', 'CDC', 'best', 'available', 'global', 'dataset', 'pandemic', 'information', 'ECDC', 'data', 'data', 'testing', 'collected', 'us', 'detail', 'found', 'use', 'charts', 'license', 'charts', 'Creative', 'Commons', 'info', 'embedded', 'site', 'World', 'Data', 'free', 'accessible', 'everyone', 'Help', 'us', 'work', 'making', 'donation', 'License', 'World', 'Data', 'completely', 'open', 'access', 'work', 'licensed', 'Creative', 'Commons', 'license', 'permission', 'use', 'distribute', 'reproduce', 'medium', 'provided', 'source', 'authors', 'credited', 'Please', 'consult', 'full', 'legal', 'disclaimer', 'World', 'Data', 'project', 'Global', 'Change', 'Data', 'Lab', 'registered', 'charity', 'England', 'Wales', 'Charity', 'Number']\n"
          ],
          "name": "stdout"
        },
        {
          "output_type": "display_data",
          "data": {
            "image/png": "[encoded data removed]",
            "text/plain": [
              "<Figure size 432x288 with 1 Axes>"
            ]
          },
          "metadata": {
            "tags": []
          }
        }
      ]
    },
    {
      "cell_type": "code",
      "metadata": {
        "id": "AtxCbeZa3Vff",
        "colab_type": "code",
        "colab": {}
      },
      "source": [
        ""
      ],
      "execution_count": 0,
      "outputs": []
    },
    {
      "cell_type": "code",
      "metadata": {
        "id": "BhlrsF1e5PXS",
        "colab_type": "code",
        "colab": {}
      },
      "source": [
        ""
      ],
      "execution_count": 0,
      "outputs": []
    }
  ]
}